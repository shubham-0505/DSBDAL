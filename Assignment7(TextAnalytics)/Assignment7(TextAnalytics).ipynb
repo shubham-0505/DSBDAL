{
  "nbformat": 4,
  "nbformat_minor": 0,
  "metadata": {
    "colab": {
      "provenance": []
    },
    "kernelspec": {
      "name": "python3",
      "display_name": "Python 3"
    },
    "language_info": {
      "name": "python"
    }
  },
  "cells": [
    {
      "cell_type": "code",
      "execution_count": null,
      "metadata": {
        "colab": {
          "base_uri": "https://localhost:8080/"
        },
        "id": "VhaL6sQ4KRRE",
        "outputId": "31dceca9-5aa6-4380-ca75-a855e5daed81"
      },
      "outputs": [
        {
          "output_type": "stream",
          "name": "stderr",
          "text": [
            "[nltk_data] Downloading package punkt to /root/nltk_data...\n",
            "[nltk_data]   Package punkt is already up-to-date!\n",
            "[nltk_data] Downloading package wordnet to /root/nltk_data...\n",
            "[nltk_data]   Package wordnet is already up-to-date!\n"
          ]
        },
        {
          "output_type": "execute_result",
          "data": {
            "text/plain": [
              "True"
            ]
          },
          "metadata": {},
          "execution_count": 15
        }
      ],
      "source": [
        "import nltk\n",
        "nltk.download('punkt')\n",
        "nltk.download('wordnet')"
      ]
    },
    {
      "cell_type": "code",
      "source": [
        "from nltk.tokenize import word_tokenize\n",
        "tokenized_words = word_tokenize(\"Educated fool with money on my mind\")\n",
        "print(tokenized_words)"
      ],
      "metadata": {
        "colab": {
          "base_uri": "https://localhost:8080/"
        },
        "id": "_El2uiDwVT_c",
        "outputId": "862ccc09-3993-4f4a-fceb-8acc550859d1"
      },
      "execution_count": null,
      "outputs": [
        {
          "output_type": "stream",
          "name": "stdout",
          "text": [
            "['Educated', 'fool', 'with', 'money', 'on', 'my', 'mind']\n"
          ]
        }
      ]
    },
    {
      "cell_type": "code",
      "source": [
        "nltk.word_tokenize(\"Shadows are our own reflection\")"
      ],
      "metadata": {
        "colab": {
          "base_uri": "https://localhost:8080/"
        },
        "id": "qA-WZrhmVoxj",
        "outputId": "d9553497-db31-45b4-ba0d-9b44eb255974"
      },
      "execution_count": null,
      "outputs": [
        {
          "output_type": "execute_result",
          "data": {
            "text/plain": [
              "['Shadows', 'are', 'our', 'own', 'reflection']"
            ]
          },
          "metadata": {},
          "execution_count": 17
        }
      ]
    },
    {
      "cell_type": "code",
      "source": [
        "nltk.download('stopwords')"
      ],
      "metadata": {
        "colab": {
          "base_uri": "https://localhost:8080/"
        },
        "id": "wRSvAcKIVwc9",
        "outputId": "4f772a62-a700-4dd5-981a-6ae0525c84c5"
      },
      "execution_count": null,
      "outputs": [
        {
          "output_type": "stream",
          "name": "stderr",
          "text": [
            "[nltk_data] Downloading package stopwords to /root/nltk_data...\n",
            "[nltk_data]   Package stopwords is already up-to-date!\n"
          ]
        },
        {
          "output_type": "execute_result",
          "data": {
            "text/plain": [
              "True"
            ]
          },
          "metadata": {},
          "execution_count": 18
        }
      ]
    },
    {
      "cell_type": "code",
      "source": [
        "from nltk.corpus import stopwords\n",
        "stop_words = set(stopwords.words('english'))\n",
        "print(stop_words)"
      ],
      "metadata": {
        "colab": {
          "base_uri": "https://localhost:8080/"
        },
        "id": "4KVLW4U1V18E",
        "outputId": "a26847f1-53ea-4bf1-d8e5-3b4014e0cd95"
      },
      "execution_count": null,
      "outputs": [
        {
          "output_type": "stream",
          "name": "stdout",
          "text": [
            "{'some', 'themselves', 'and', \"needn't\", 'here', 'y', 'me', 'isn', 'shouldn', 'any', 'this', \"she's\", 'than', 'it', 'in', 'but', \"shouldn't\", \"you'll\", 'when', 'o', 'for', 'have', 'aren', 'because', 'why', 'theirs', 'most', \"haven't\", 'no', 'm', 're', 'hasn', 'out', 'are', \"that'll\", 'shan', 'myself', 'these', 'been', 'being', 'i', 'weren', 'whom', 'haven', 'just', 'ain', 'did', 'does', 'with', 'the', \"you're\", 'them', 'from', 'too', 'ma', 'was', 've', 'didn', 'further', 's', 'hers', 'him', 'needn', 'how', 'having', 'has', 'other', 'their', 'now', 'don', 'if', 'before', 'he', 'below', 'her', 'which', 'about', 'wouldn', 'over', 'she', 'then', 'all', 'very', \"wouldn't\", 'is', 'those', 'do', 'after', \"don't\", 'his', 'more', 'our', 'yours', 'himself', 'by', 'won', 'ourselves', 'under', 'itself', 'an', 'mustn', 'into', 'be', 'd', 'until', \"won't\", 'where', 'what', 'few', \"wasn't\", 'will', \"it's\", 'were', \"mightn't\", 'your', 'on', 'can', 'you', 'both', 'yourself', \"isn't\", 'had', 'nor', 'couldn', 'we', 'between', 't', 'wasn', 'or', \"you'd\", 'there', 'each', 'to', 'as', 'same', 'above', 'yourselves', \"hasn't\", 'off', 'should', \"aren't\", \"shan't\", 'they', \"mustn't\", \"you've\", \"weren't\", 'such', 'll', 'that', 'while', 'herself', 'my', \"should've\", 'again', 'hadn', 'doesn', 'a', 'ours', 'its', 'during', 'mightn', 'once', 'against', \"didn't\", 'of', 'doing', \"couldn't\", \"hadn't\", 'at', 'who', 'up', 'not', 'so', 'through', 'am', 'only', 'own', \"doesn't\", 'down'}\n"
          ]
        }
      ]
    },
    {
      "cell_type": "code",
      "source": [
        "print(stop_words)"
      ],
      "metadata": {
        "colab": {
          "base_uri": "https://localhost:8080/"
        },
        "id": "7KxoDBDQWgJJ",
        "outputId": "49d97996-f337-4ab5-8097-ac2a821fc09d"
      },
      "execution_count": null,
      "outputs": [
        {
          "output_type": "stream",
          "name": "stdout",
          "text": [
            "{'some', 'themselves', 'and', \"needn't\", 'here', 'y', 'me', 'isn', 'shouldn', 'any', 'this', \"she's\", 'than', 'it', 'in', 'but', \"shouldn't\", \"you'll\", 'when', 'o', 'for', 'have', 'aren', 'because', 'why', 'theirs', 'most', \"haven't\", 'no', 'm', 're', 'hasn', 'out', 'are', \"that'll\", 'shan', 'myself', 'these', 'been', 'being', 'i', 'weren', 'whom', 'haven', 'just', 'ain', 'did', 'does', 'with', 'the', \"you're\", 'them', 'from', 'too', 'ma', 'was', 've', 'didn', 'further', 's', 'hers', 'him', 'needn', 'how', 'having', 'has', 'other', 'their', 'now', 'don', 'if', 'before', 'he', 'below', 'her', 'which', 'about', 'wouldn', 'over', 'she', 'then', 'all', 'very', \"wouldn't\", 'is', 'those', 'do', 'after', \"don't\", 'his', 'more', 'our', 'yours', 'himself', 'by', 'won', 'ourselves', 'under', 'itself', 'an', 'mustn', 'into', 'be', 'd', 'until', \"won't\", 'where', 'what', 'few', \"wasn't\", 'will', \"it's\", 'were', \"mightn't\", 'your', 'on', 'can', 'you', 'both', 'yourself', \"isn't\", 'had', 'nor', 'couldn', 'we', 'between', 't', 'wasn', 'or', \"you'd\", 'there', 'each', 'to', 'as', 'same', 'above', 'yourselves', \"hasn't\", 'off', 'should', \"aren't\", \"shan't\", 'they', \"mustn't\", \"you've\", \"weren't\", 'such', 'll', 'that', 'while', 'herself', 'my', \"should've\", 'again', 'hadn', 'doesn', 'a', 'ours', 'its', 'during', 'mightn', 'once', 'against', \"didn't\", 'of', 'doing', \"couldn't\", \"hadn't\", 'at', 'who', 'up', 'not', 'so', 'through', 'am', 'only', 'own', \"doesn't\", 'down'}\n"
          ]
        }
      ]
    },
    {
      "cell_type": "code",
      "source": [
        "filtered_sentence = []\n",
        "input_text = \"I like the weather of this city.\"\n",
        "input_text = nltk.word_tokenize(input_text)\n",
        "for w in input_text:\n",
        "    if w not in stop_words:\n",
        "        filtered_sentence.append(w)\n",
        "print(\"Filtered Sentence: \")        \n",
        "print(filtered_sentence)"
      ],
      "metadata": {
        "colab": {
          "base_uri": "https://localhost:8080/"
        },
        "id": "GmdAOEJqvVKR",
        "outputId": "dd485011-4c87-4d37-bed1-952388024a4e"
      },
      "execution_count": null,
      "outputs": [
        {
          "output_type": "stream",
          "name": "stdout",
          "text": [
            "Filtered Sentence: \n",
            "['I', 'like', 'weather', 'city', '.']\n"
          ]
        }
      ]
    },
    {
      "cell_type": "code",
      "source": [
        "from nltk.stem import PorterStemmer\n",
        "stemmer = PorterStemmer()\n",
        "input_string = \"I am studying without lights.\"\n",
        "input_string = nltk.word_tokenize(input_string)\n",
        "for word in input_string:\n",
        "  print(stemmer.stem(word))"
      ],
      "metadata": {
        "colab": {
          "base_uri": "https://localhost:8080/"
        },
        "id": "5BIVW8G-XWPY",
        "outputId": "e2f77552-c10e-4181-ec45-379411c44f9c"
      },
      "execution_count": null,
      "outputs": [
        {
          "output_type": "stream",
          "name": "stdout",
          "text": [
            "i\n",
            "am\n",
            "studi\n",
            "without\n",
            "light\n",
            ".\n"
          ]
        }
      ]
    },
    {
      "cell_type": "code",
      "source": [
        "from nltk.stem import WordNetLemmatizer\n",
        "lemmatizer = WordNetLemmatizer()\n",
        "input_string = \"Eating grains is a bad habit in cities by mice.\"\n",
        "input_string = nltk.word_tokenize(input_string)\n",
        "for word in input_string:\n",
        "  print(lemmatizer.lemmatize(word))"
      ],
      "metadata": {
        "colab": {
          "base_uri": "https://localhost:8080/"
        },
        "id": "hC74QYFPYw1U",
        "outputId": "b8d309ee-457e-49d9-9c59-b3688c12b2f7"
      },
      "execution_count": null,
      "outputs": [
        {
          "output_type": "stream",
          "name": "stdout",
          "text": [
            "Eating\n",
            "grain\n",
            "is\n",
            "a\n",
            "bad\n",
            "habit\n",
            "in\n",
            "city\n",
            "by\n",
            "mouse\n",
            ".\n"
          ]
        }
      ]
    },
    {
      "cell_type": "code",
      "source": [
        "nltk.download('averaged_perceptron_tagger')"
      ],
      "metadata": {
        "colab": {
          "base_uri": "https://localhost:8080/"
        },
        "id": "tUE4883TfvKZ",
        "outputId": "a90d799c-00e3-415d-e2e9-deeb5bfeec58"
      },
      "execution_count": null,
      "outputs": [
        {
          "output_type": "stream",
          "name": "stderr",
          "text": [
            "[nltk_data] Downloading package averaged_perceptron_tagger to\n",
            "[nltk_data]     /root/nltk_data...\n",
            "[nltk_data]   Unzipping taggers/averaged_perceptron_tagger.zip.\n"
          ]
        },
        {
          "output_type": "execute_result",
          "data": {
            "text/plain": [
              "True"
            ]
          },
          "metadata": {},
          "execution_count": 46
        }
      ]
    },
    {
      "cell_type": "code",
      "source": [
        "text = \"Astronomy is a humbling and character-building experience.\""
      ],
      "metadata": {
        "id": "DN4uxwyEf29h"
      },
      "execution_count": null,
      "outputs": []
    },
    {
      "cell_type": "code",
      "source": [
        "result = nltk.pos_tag(word_tokenize(text))"
      ],
      "metadata": {
        "id": "bE2wl4sAf8PK"
      },
      "execution_count": null,
      "outputs": []
    },
    {
      "cell_type": "code",
      "source": [
        "print(result)"
      ],
      "metadata": {
        "colab": {
          "base_uri": "https://localhost:8080/"
        },
        "id": "OzCoKtBFgHdt",
        "outputId": "313f77e0-9ba9-4b4a-bfde-16f21c1f3a46"
      },
      "execution_count": null,
      "outputs": [
        {
          "output_type": "stream",
          "name": "stdout",
          "text": [
            "[('Astronomy', 'NNP'), ('is', 'VBZ'), ('a', 'DT'), ('humbling', 'NN'), ('and', 'CC'), ('character-building', 'JJ'), ('experience', 'NN'), ('.', '.')]\n"
          ]
        }
      ]
    },
    {
      "cell_type": "code",
      "source": [
        "nltk.download('tagsets')"
      ],
      "metadata": {
        "colab": {
          "base_uri": "https://localhost:8080/"
        },
        "id": "OYxQxrKSgN0l",
        "outputId": "c447050b-8efc-4d45-8ead-9990e0d7e839"
      },
      "execution_count": null,
      "outputs": [
        {
          "output_type": "stream",
          "name": "stderr",
          "text": [
            "[nltk_data] Downloading package tagsets to /root/nltk_data...\n",
            "[nltk_data]   Unzipping help/tagsets.zip.\n"
          ]
        },
        {
          "output_type": "execute_result",
          "data": {
            "text/plain": [
              "True"
            ]
          },
          "metadata": {},
          "execution_count": 51
        }
      ]
    },
    {
      "cell_type": "code",
      "source": [
        "nltk.help.upenn_tagset('NNP')"
      ],
      "metadata": {
        "colab": {
          "base_uri": "https://localhost:8080/"
        },
        "id": "rU0q05DLgwYR",
        "outputId": "4220070a-0e27-4bc3-fbde-2f650d0834c4"
      },
      "execution_count": null,
      "outputs": [
        {
          "output_type": "stream",
          "name": "stdout",
          "text": [
            "NNP: noun, proper, singular\n",
            "    Motown Venneboerger Czestochwa Ranzer Conchita Trumplane Christos\n",
            "    Oceanside Escobar Kreisler Sawyer Cougar Yvette Ervin ODI Darryl CTCA\n",
            "    Shannon A.K.C. Meltex Liverpool ...\n"
          ]
        }
      ]
    },
    {
      "cell_type": "code",
      "source": [
        "nltk.help.upenn_tagset('VBZ')"
      ],
      "metadata": {
        "colab": {
          "base_uri": "https://localhost:8080/"
        },
        "id": "_ksJC4lMg9SK",
        "outputId": "153a0eaf-7cd6-425f-9374-af11b8ceee83"
      },
      "execution_count": null,
      "outputs": [
        {
          "output_type": "stream",
          "name": "stdout",
          "text": [
            "VBZ: verb, present tense, 3rd person singular\n",
            "    bases reconstructs marks mixes displeases seals carps weaves snatches\n",
            "    slumps stretches authorizes smolders pictures emerges stockpiles\n",
            "    seduces fizzes uses bolsters slaps speaks pleads ...\n"
          ]
        }
      ]
    },
    {
      "cell_type": "code",
      "source": [
        "text_data = ['One day, someone will think about you for the last time in eternity. You will be forgotten by the world and the universe.']"
      ],
      "metadata": {
        "id": "7iRmmc44hQ_A"
      },
      "execution_count": 8,
      "outputs": []
    },
    {
      "cell_type": "code",
      "source": [
        "from sklearn.feature_extraction.text import TfidfVectorizer"
      ],
      "metadata": {
        "id": "KvRsPirXp3zg"
      },
      "execution_count": 19,
      "outputs": []
    },
    {
      "cell_type": "code",
      "source": [
        "# creating object\n",
        "tfidf = TfidfVectorizer()\n",
        "\n",
        "# get tf-df values\n",
        "result = tfidf.fit_transform(text_data)"
      ],
      "metadata": {
        "id": "bGDBT2t_rxbz"
      },
      "execution_count": 20,
      "outputs": []
    },
    {
      "cell_type": "code",
      "source": [
        "print(result)"
      ],
      "metadata": {
        "colab": {
          "base_uri": "https://localhost:8080/",
          "height": 0
        },
        "id": "1N15-B4UspfU",
        "outputId": "4db63e21-fabd-48fe-ad1d-8322291df96e"
      },
      "execution_count": 22,
      "outputs": [
        {
          "output_type": "stream",
          "name": "stdout",
          "text": [
            "  (0, 15)\t0.17407765595569785\n",
            "  (0, 1)\t0.17407765595569785\n",
            "  (0, 17)\t0.17407765595569785\n",
            "  (0, 3)\t0.17407765595569785\n",
            "  (0, 7)\t0.17407765595569785\n",
            "  (0, 2)\t0.17407765595569785\n",
            "  (0, 5)\t0.17407765595569785\n",
            "  (0, 8)\t0.17407765595569785\n",
            "  (0, 14)\t0.17407765595569785\n",
            "  (0, 9)\t0.17407765595569785\n",
            "  (0, 12)\t0.5222329678670935\n",
            "  (0, 6)\t0.17407765595569785\n",
            "  (0, 18)\t0.3481553119113957\n",
            "  (0, 0)\t0.17407765595569785\n",
            "  (0, 13)\t0.17407765595569785\n",
            "  (0, 16)\t0.3481553119113957\n",
            "  (0, 11)\t0.17407765595569785\n",
            "  (0, 4)\t0.17407765595569785\n",
            "  (0, 10)\t0.17407765595569785\n"
          ]
        }
      ]
    },
    {
      "cell_type": "code",
      "source": [
        "# indexing of terms\n",
        "tfidf.vocabulary_"
      ],
      "metadata": {
        "colab": {
          "base_uri": "https://localhost:8080/",
          "height": 0
        },
        "id": "4qacTNBFuG6A",
        "outputId": "f49d76f5-9460-4628-ddea-26d51f76fec1"
      },
      "execution_count": 23,
      "outputs": [
        {
          "output_type": "execute_result",
          "data": {
            "text/plain": [
              "{'one': 10,\n",
              " 'day': 4,\n",
              " 'someone': 11,\n",
              " 'will': 16,\n",
              " 'think': 13,\n",
              " 'about': 0,\n",
              " 'you': 18,\n",
              " 'for': 6,\n",
              " 'the': 12,\n",
              " 'last': 9,\n",
              " 'time': 14,\n",
              " 'in': 8,\n",
              " 'eternity': 5,\n",
              " 'be': 2,\n",
              " 'forgotten': 7,\n",
              " 'by': 3,\n",
              " 'world': 17,\n",
              " 'and': 1,\n",
              " 'universe': 15}"
            ]
          },
          "metadata": {},
          "execution_count": 23
        }
      ]
    },
    {
      "cell_type": "code",
      "source": [
        "# tf-idf values in matrix form\n",
        "print(result.toarray())"
      ],
      "metadata": {
        "colab": {
          "base_uri": "https://localhost:8080/",
          "height": 0
        },
        "id": "pJkICOhdv3fL",
        "outputId": "ea3124bd-1e6e-4ccf-b88e-9b163cc90b66"
      },
      "execution_count": 25,
      "outputs": [
        {
          "output_type": "stream",
          "name": "stdout",
          "text": [
            "[[0.17407766 0.17407766 0.17407766 0.17407766 0.17407766 0.17407766\n",
            "  0.17407766 0.17407766 0.17407766 0.17407766 0.17407766 0.17407766\n",
            "  0.52223297 0.17407766 0.17407766 0.17407766 0.34815531 0.17407766\n",
            "  0.34815531]]\n"
          ]
        }
      ]
    },
    {
      "cell_type": "code",
      "source": [],
      "metadata": {
        "id": "pHp7HRXFwFGE"
      },
      "execution_count": null,
      "outputs": []
    }
  ]
}